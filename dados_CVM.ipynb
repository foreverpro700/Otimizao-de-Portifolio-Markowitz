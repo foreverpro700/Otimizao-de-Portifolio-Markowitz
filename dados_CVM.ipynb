{
  "nbformat": 4,
  "nbformat_minor": 0,
  "metadata": {
    "colab": {
      "provenance": [],
      "authorship_tag": "ABX9TyP6R2jwnko6laNlRTNGTLQ/",
      "include_colab_link": true
    },
    "kernelspec": {
      "name": "python3",
      "display_name": "Python 3"
    },
    "language_info": {
      "name": "python"
    }
  },
  "cells": [
    {
      "cell_type": "markdown",
      "metadata": {
        "id": "view-in-github",
        "colab_type": "text"
      },
      "source": [
        "<a href=\"https://colab.research.google.com/github/foreverpro700/foreverpro700/blob/main/dados_CVM.ipynb\" target=\"_parent\"><img src=\"https://colab.research.google.com/assets/colab-badge.svg\" alt=\"Open In Colab\"/></a>"
      ]
    },
    {
      "cell_type": "markdown",
      "source": [
        "Dados CVM Link: https://dados.cvm.gov.br/dados/CIA_ABERTA/DOC/ITR/DADOS/"
      ],
      "metadata": {
        "id": "btUtTRspjgev"
      }
    },
    {
      "cell_type": "code",
      "source": [
        "!pip install wget"
      ],
      "metadata": {
        "colab": {
          "base_uri": "https://localhost:8080/"
        },
        "id": "9HXLaQWnlUme",
        "outputId": "bbf199d1-6937-4ca0-bb44-4d419764e2e1"
      },
      "execution_count": null,
      "outputs": [
        {
          "output_type": "stream",
          "name": "stdout",
          "text": [
            "Requirement already satisfied: wget in /usr/local/lib/python3.10/dist-packages (3.2)\n"
          ]
        }
      ]
    },
    {
      "cell_type": "code",
      "source": [
        "import pandas as pd\n",
        "import requests\n",
        "import wget\n",
        "from zipfile import ZipFile\n",
        "import os"
      ],
      "metadata": {
        "id": "JSj8dmjmlZVW"
      },
      "execution_count": null,
      "outputs": []
    },
    {
      "cell_type": "code",
      "source": [
        "url_base = 'https://dados.cvm.gov.br/dados/CIA_ABERTA/DOC/ITR/DADOS/'"
      ],
      "metadata": {
        "id": "yhwa_20YluLl"
      },
      "execution_count": null,
      "outputs": []
    },
    {
      "cell_type": "code",
      "source": [
        "lista_demostracoes_2010_2023 = []\n",
        "diretorio_atual = os.getcwd()\n",
        "\n",
        "for arquivo in os.listdir(diretorio_atual):\n",
        "    if arquivo == \".pynb_checkpoints\" or not arquivo.endswith(\".zip\"):\n",
        "        continue\n",
        "  else:\n",
        "\n",
        "    if arquivo.endswith(\".zip\"):  # Verifique se o arquivo tem a extensão .zip\n",
        "        try:\n",
        "            arquivo_zip = zipfile.ZipFile(arquivo)\n",
        "\n",
        "            for planilha in arquivo_zip.namelist():\n",
        "                demostracao = pd.read_csv(arquivo_zip.open(planilha), sep=\";\", encoding=\"ISO-8859-1\", dtype={\"ORDEM_EXERC\": \"category\"})\n",
        "                lista_demostracoes_2010_2023.append(demostracao)\n",
        "        except zipfile.BadZipFile:\n",
        "            print(f\"O arquivo {arquivo} não é um arquivo ZIP válido e será ignorado.\")\n",
        "diretorio_atual = os.getcwd()\n",
        "\n",
        "os.chdir(f\"{diretorio_atual}/Dados_CVM\")"
      ],
      "metadata": {
        "colab": {
          "base_uri": "https://localhost:8080/",
          "height": 140
        },
        "id": "VKSRDHU8l4Bm",
        "outputId": "733b1727-7672-4449-ff9a-701d57dc0271"
      },
      "execution_count": null,
      "outputs": [
        {
          "output_type": "error",
          "ename": "IndentationError",
          "evalue": "ignored",
          "traceback": [
            "\u001b[0;36m  File \u001b[0;32m\"<tokenize>\"\u001b[0;36m, line \u001b[0;32m7\u001b[0m\n\u001b[0;31m    else:\u001b[0m\n\u001b[0m    ^\u001b[0m\n\u001b[0;31mIndentationError\u001b[0m\u001b[0;31m:\u001b[0m unindent does not match any outer indentation level\n"
          ]
        }
      ]
    },
    {
      "cell_type": "code",
      "source": [
        "anos = range(2011,2023)\n",
        "\n",
        "url_base = \"https://dados.cvm.gov.br/dados/CIA_ABERTA/DOC/ITR/DADOS/\"\n",
        "\n",
        "for ano in anos:\n",
        "\n",
        "    download = requests.get(url_base + f\"dfp_cia_aberta_{ano}.zip\")\n",
        "\n",
        "    open(f\"dfp_cia_aberta_{ano}.zip\",\"wb\").write(download.content)"
      ],
      "metadata": {
        "id": "zx6ZVQCdnFmW"
      },
      "execution_count": null,
      "outputs": []
    },
    {
      "cell_type": "code",
      "source": [
        "import zipfile\n",
        "\n",
        "lista_demostracao_2010_2022 = []\n",
        "\n",
        "diretorio_atual = os.getcwd()\n",
        "\n",
        "for arquivo in os.listdir(diretorio_atual):\n",
        "\n",
        "    if arquivo == \".pynb_checkpoints\":\n",
        "\n",
        "     pass\n",
        "\n",
        "else:\n",
        "\n",
        "    arquivo_zip = zipfile.ZipFile(arquivo)\n",
        "\n",
        "    for planilha in arquivo_zip.namelist():\n",
        "\n",
        "        demostracao = pd.read_csv(arquivo_zip.open(planilha), sep = ';', encoding = 'ISO-8859-1', dtype = {'ORDEM_EXERC':'category'})\n",
        "\n",
        "        lista_demostracao_2010_2022.append(demostracao)"
      ],
      "metadata": {
        "id": "bOmFwaGqr9gH"
      },
      "execution_count": null,
      "outputs": []
    },
    {
      "cell_type": "code",
      "source": [
        "base_dados = pd.concat(lista_demostracao_2010_2022)\n",
        "\n",
        "base_dados"
      ],
      "metadata": {
        "id": "W97WqPbK3bDl"
      },
      "execution_count": null,
      "outputs": []
    },
    {
      "cell_type": "code",
      "source": [
        "base_dados[['con_ind','tipo_dem']] = base_dados['GRUPO_DFP'].str.split(\"-\", expand = True)\n",
        "base_dados['con_ind'] = base_dados['con_ind'].str.strip()\n",
        "base_dados['tipo_dem'] = base_dados['tipo_dem'].str.strip()\n",
        "\n",
        "base_dados = base_dados[base_dados['ORDEM_EXERC'] != 'PENÚLTIMO']"
      ],
      "metadata": {
        "id": "jEEbAZd-4G-l"
      },
      "execution_count": null,
      "outputs": []
    },
    {
      "cell_type": "code",
      "source": [
        "lista_dem = base_dados['tipo_dem'].unique()\n",
        "lista_dem"
      ],
      "metadata": {
        "id": "VarA0uWh7tnX"
      },
      "execution_count": null,
      "outputs": []
    },
    {
      "cell_type": "code",
      "source": [
        "lista_empresas = base_dados['DENOM_CIA'].unique()\n",
        "lista_empresas"
      ],
      "metadata": {
        "id": "YMPIKdToDExz"
      },
      "execution_count": null,
      "outputs": []
    },
    {
      "cell_type": "code",
      "source": [
        "aes_dre = base_dados[(base_dados[\"DENOM_CIA\"]=='AES BRASIL OPERAÇÕES S.A.') &\n",
        "                    (base_dados[\"tipo_dem\"]==\"Demostração do Resultado\") &\n",
        "                    (base_dados[\"DS_CONTA\"]==\"Receita de Bens e/ou Serviços\") &\n",
        "                    (base_dados[\"con_ind\"]==\"DF Consolidado\")]\n",
        "display(aes_dre)"
      ],
      "metadata": {
        "id": "BDwTgBM2ECUs"
      },
      "execution_count": null,
      "outputs": []
    }
  ]
}