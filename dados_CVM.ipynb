{
  "nbformat": 4,
  "nbformat_minor": 0,
  "metadata": {
    "colab": {
      "provenance": [],
      "authorship_tag": "ABX9TyOlRDfrrhGB/9AO4wGt50sh",
      "include_colab_link": true
    },
    "kernelspec": {
      "name": "python3",
      "display_name": "Python 3"
    },
    "language_info": {
      "name": "python"
    }
  },
  "cells": [
    {
      "cell_type": "markdown",
      "metadata": {
        "id": "view-in-github",
        "colab_type": "text"
      },
      "source": [
        "<a href=\"https://colab.research.google.com/github/foreverpro700/foreverpro700/blob/main/dados_CVM.ipynb\" target=\"_parent\"><img src=\"https://colab.research.google.com/assets/colab-badge.svg\" alt=\"Open In Colab\"/></a>"
      ]
    },
    {
      "cell_type": "markdown",
      "source": [
        "Dados CVM Link: https://dados.cvm.gov.br/dados/CIA_ABERTA/DOC/ITR/DADOS/"
      ],
      "metadata": {
        "id": "btUtTRspjgev"
      }
    },
    {
      "cell_type": "code",
      "source": [
        "#Instalação da biblioteca\n",
        "!pip install wget"
      ],
      "metadata": {
        "colab": {
          "base_uri": "https://localhost:8080/"
        },
        "id": "9HXLaQWnlUme",
        "outputId": "265ae607-9753-4081-aa77-e5aa2bcb2f79"
      },
      "execution_count": 1,
      "outputs": [
        {
          "output_type": "stream",
          "name": "stdout",
          "text": [
            "Collecting wget\n",
            "  Downloading wget-3.2.zip (10 kB)\n",
            "  Preparing metadata (setup.py) ... \u001b[?25l\u001b[?25hdone\n",
            "Building wheels for collected packages: wget\n",
            "  Building wheel for wget (setup.py) ... \u001b[?25l\u001b[?25hdone\n",
            "  Created wheel for wget: filename=wget-3.2-py3-none-any.whl size=9657 sha256=ac6a23393c73c9d14ce3ca26f1e9d860634dd1584c6a91d4cfb4262c83e34e25\n",
            "  Stored in directory: /root/.cache/pip/wheels/8b/f1/7f/5c94f0a7a505ca1c81cd1d9208ae2064675d97582078e6c769\n",
            "Successfully built wget\n",
            "Installing collected packages: wget\n",
            "Successfully installed wget-3.2\n"
          ]
        }
      ]
    },
    {
      "cell_type": "code",
      "source": [
        "#Importação das bibliotecas\n",
        "import pandas as pd\n",
        "import requests\n",
        "import wget\n",
        "from zipfile import ZipFile\n",
        "import os"
      ],
      "metadata": {
        "id": "JSj8dmjmlZVW"
      },
      "execution_count": 2,
      "outputs": []
    },
    {
      "cell_type": "code",
      "source": [
        "#Site da base de dados\n",
        "url_base = 'https://dados.cvm.gov.br/dados/CIA_ABERTA/DOC/ITR/DADOS/'"
      ],
      "metadata": {
        "id": "yhwa_20YluLl"
      },
      "execution_count": 3,
      "outputs": []
    },
    {
      "cell_type": "code",
      "source": [
        "#Extraindo todos os arquivos\n",
        "lista_demostracoes_2010_2023 = []\n",
        "diretorio_atual = os.getcwd()\n",
        "\n",
        "for arquivo in os.listdir(diretorio_atual):\n",
        "    if arquivo == \".pynb_checkpoints\" or not arquivo.endswith(\".zip\"):\n",
        "        continue\n",
        "else:\n",
        "\n",
        "    if arquivo.endswith(\".zip\"):  # Verifique se o arquivo tem a extensão .zip\n",
        "        try:\n",
        "            arquivo_zip = zipfile.ZipFile(arquivo)\n",
        "\n",
        "            for planilha in arquivo_zip.namelist():\n",
        "                demostracao = pd.read_csv(arquivo_zip.open(planilha), sep=\";\", encoding=\"ISO-8859-1\", dtype={\"ORDEM_EXERC\": \"category\"})\n",
        "                lista_demostracoes_2010_2023.append(demostracao)\n",
        "        except zipfile.BadZipFile:\n",
        "            print(f\"O arquivo {arquivo} não é um arquivo ZIP válido e será ignorado.\")\n",
        "diretorio_atual = os.getcwd()\n",
        "\n",
        "os.chdir(f\"{diretorio_atual}/dados_cvm\")"
      ],
      "metadata": {
        "id": "VKSRDHU8l4Bm"
      },
      "execution_count": 8,
      "outputs": []
    },
    {
      "cell_type": "code",
      "source": [
        "#Separando a extração dos arquivos por ano\n",
        "anos = range(2011,2023)\n",
        "\n",
        "url_base = \"https://dados.cvm.gov.br/dados/CIA_ABERTA/DOC/ITR/DADOS/\"\n",
        "\n",
        "for ano in anos:\n",
        "\n",
        "    download = requests.get(url_base + f\"dfp_cia_aberta_{ano}.zip\")\n",
        "\n",
        "    open(f\"dfp_cia_aberta_{ano}.zip\",\"wb\").write(download.content)"
      ],
      "metadata": {
        "id": "zx6ZVQCdnFmW"
      },
      "execution_count": 9,
      "outputs": []
    },
    {
      "cell_type": "code",
      "source": [
        "#Descompactando os arquivos em zip\n",
        "import zipfile\n",
        "\n",
        "lista_demostracao_2010_2022 = []\n",
        "\n",
        "diretorio_atual = os.getcwd()\n",
        "\n",
        "for arquivo in os.listdir(diretorio_atual):\n",
        "\n",
        "    if arquivo == \".pynb_checkpoints\":\n",
        "\n",
        "     pass\n",
        "\n",
        "else:\n",
        "\n",
        "    arquivo_zip = zipfile.ZipFile(arquivo)\n",
        "\n",
        "    for planilha in arquivo_zip.namelist():\n",
        "\n",
        "        demostracao = pd.read_csv(arquivo_zip.open(planilha), sep = ';', encoding = 'ISO-8859-1', dtype = {'ORDEM_EXERC':'category'})\n",
        "\n",
        "        lista_demostracao_2010_2022.append(demostracao)"
      ],
      "metadata": {
        "id": "bOmFwaGqr9gH"
      },
      "execution_count": null,
      "outputs": []
    },
    {
      "cell_type": "code",
      "source": [
        "#Transformando tudo em uma coisa só\n",
        "base_dados = pd.concat(lista_demostracao_2010_2022)\n",
        "\n",
        "base_dados"
      ],
      "metadata": {
        "id": "W97WqPbK3bDl"
      },
      "execution_count": null,
      "outputs": []
    },
    {
      "cell_type": "code",
      "source": [
        "#Tratando os dados\n",
        "base_dados[['con_ind','tipo_dem']] = base_dados['GRUPO_DFP'].str.split(\"-\", expand = True)\n",
        "base_dados['con_ind'] = base_dados['con_ind'].str.strip()\n",
        "base_dados['tipo_dem'] = base_dados['tipo_dem'].str.strip()\n",
        "\n",
        "base_dados = base_dados[base_dados['ORDEM_EXERC'] != 'PENÚLTIMO']"
      ],
      "metadata": {
        "id": "jEEbAZd-4G-l"
      },
      "execution_count": null,
      "outputs": []
    },
    {
      "cell_type": "code",
      "source": [
        "lista_dem = base_dados['tipo_dem'].unique()\n",
        "lista_dem"
      ],
      "metadata": {
        "id": "VarA0uWh7tnX"
      },
      "execution_count": null,
      "outputs": []
    },
    {
      "cell_type": "code",
      "source": [
        "lista_empresas = base_dados['DENOM_CIA'].unique()\n",
        "lista_empresas"
      ],
      "metadata": {
        "id": "YMPIKdToDExz"
      },
      "execution_count": null,
      "outputs": []
    },
    {
      "cell_type": "code",
      "source": [
        "#Realizando consultas\n",
        "aes_dre = base_dados[(base_dados[\"DENOM_CIA\"]=='AES BRASIL OPERAÇÕES S.A.') &\n",
        "                    (base_dados[\"tipo_dem\"]==\"Demostração do Resultado\") &\n",
        "                    (base_dados[\"DS_CONTA\"]==\"Receita de Bens e/ou Serviços\") &\n",
        "                    (base_dados[\"con_ind\"]==\"DF Consolidado\")]\n",
        "display(aes_dre)"
      ],
      "metadata": {
        "id": "BDwTgBM2ECUs"
      },
      "execution_count": null,
      "outputs": []
    }
  ]
}